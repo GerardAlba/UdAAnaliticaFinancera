{
  "nbformat": 4,
  "nbformat_minor": 0,
  "metadata": {
    "colab": {
      "provenance": [],
      "authorship_tag": "ABX9TyPAf2d6fxwF5NqyYocI6fdh",
      "include_colab_link": true
    },
    "kernelspec": {
      "name": "python3",
      "display_name": "Python 3"
    },
    "language_info": {
      "name": "python"
    }
  },
  "cells": [
    {
      "cell_type": "markdown",
      "metadata": {
        "id": "view-in-github",
        "colab_type": "text"
      },
      "source": [
        "<a href=\"https://colab.research.google.com/github/GerardAlba/UdAAnaliticaFinancera/blob/main/SimFinAPI.ipynb\" target=\"_parent\"><img src=\"https://colab.research.google.com/assets/colab-badge.svg\" alt=\"Open In Colab\"/></a>"
      ]
    },
    {
      "cell_type": "code",
      "execution_count": 1,
      "metadata": {
        "colab": {
          "base_uri": "https://localhost:8080/"
        },
        "collapsed": true,
        "id": "HOsKUZWWbY8p",
        "outputId": "cff4d34f-d372-4340-a0b6-d536de742250"
      },
      "outputs": [
        {
          "output_type": "stream",
          "name": "stdout",
          "text": [
            "Collecting simfin\n",
            "  Downloading simfin-1.0.1-py3-none-any.whl.metadata (637 bytes)\n",
            "Requirement already satisfied: pandas in /usr/local/lib/python3.10/dist-packages (from simfin) (2.1.4)\n",
            "Requirement already satisfied: numpy in /usr/local/lib/python3.10/dist-packages (from simfin) (1.26.4)\n",
            "Requirement already satisfied: requests in /usr/local/lib/python3.10/dist-packages (from simfin) (2.31.0)\n",
            "Requirement already satisfied: python-dateutil>=2.8.2 in /usr/local/lib/python3.10/dist-packages (from pandas->simfin) (2.8.2)\n",
            "Requirement already satisfied: pytz>=2020.1 in /usr/local/lib/python3.10/dist-packages (from pandas->simfin) (2024.1)\n",
            "Requirement already satisfied: tzdata>=2022.1 in /usr/local/lib/python3.10/dist-packages (from pandas->simfin) (2024.1)\n",
            "Requirement already satisfied: charset-normalizer<4,>=2 in /usr/local/lib/python3.10/dist-packages (from requests->simfin) (3.3.2)\n",
            "Requirement already satisfied: idna<4,>=2.5 in /usr/local/lib/python3.10/dist-packages (from requests->simfin) (3.7)\n",
            "Requirement already satisfied: urllib3<3,>=1.21.1 in /usr/local/lib/python3.10/dist-packages (from requests->simfin) (2.0.7)\n",
            "Requirement already satisfied: certifi>=2017.4.17 in /usr/local/lib/python3.10/dist-packages (from requests->simfin) (2024.7.4)\n",
            "Requirement already satisfied: six>=1.5 in /usr/local/lib/python3.10/dist-packages (from python-dateutil>=2.8.2->pandas->simfin) (1.16.0)\n",
            "Downloading simfin-1.0.1-py3-none-any.whl (61 kB)\n",
            "\u001b[2K   \u001b[90m━━━━━━━━━━━━━━━━━━━━━━━━━━━━━━━━━━━━━━━━\u001b[0m \u001b[32m61.6/61.6 kB\u001b[0m \u001b[31m2.0 MB/s\u001b[0m eta \u001b[36m0:00:00\u001b[0m\n",
            "\u001b[?25hInstalling collected packages: simfin\n",
            "Successfully installed simfin-1.0.1\n"
          ]
        }
      ],
      "source": [
        "pip install simfin"
      ]
    },
    {
      "cell_type": "code",
      "source": [
        "# Installation: pip install simfin\n",
        "# import simfin package\n",
        "import simfin as sf\n",
        "\n",
        "# Set your API-key for downloading data.\n",
        "sf.set_api_key('29fb3e92-e893-409a-9655-ba8cf31cd33b')\n",
        "\n",
        "# Set the local directory where data-files are stored.\n",
        "# The directory will be created if it does not already exist.\n",
        "sf.set_data_dir('~/simfin_data/')\n",
        "\n",
        "# Download the data from the SimFin server and load into a Pandas DataFrame.\n",
        "df = sf.load_income(variant='annual')\n",
        "\n",
        "# Print the first rows of the data.\n",
        "print(df.head())"
      ],
      "metadata": {
        "id": "8JCExhAubgUX"
      },
      "execution_count": null,
      "outputs": []
    },
    {
      "cell_type": "code",
      "source": [
        "# Installation: pip install simfin\n",
        "# import simfin package\n",
        "import simfin as sf\n",
        "\n",
        "# Set your API-key for downloading data.\n",
        "sf.set_api_key('29fb3e92-e893-409a-9655-ba8cf31cd33b')\n",
        "\n",
        "# Set the local directory where data-files are stored.\n",
        "# The directory will be created if it does not already exist.\n",
        "sf.set_data_dir('~/simfin_data/')\n",
        "\n",
        "# Download the data from the SimFin server and load into a Pandas DataFrame.\n",
        "df = sf.load_balance(variant='annual')\n",
        "\n",
        "# Print the first rows of the data.\n",
        "print(df.head())"
      ],
      "metadata": {
        "colab": {
          "base_uri": "https://localhost:8080/"
        },
        "collapsed": true,
        "id": "b0CRFLKijUoq",
        "outputId": "00fed574-7ebb-4fab-9e3b-6cdab5c1a12d"
      },
      "execution_count": 2,
      "outputs": [
        {
          "output_type": "stream",
          "name": "stdout",
          "text": [
            "Dataset \"us-balance-annual\" not on disk.\n",
            "- Downloading ... 100.0%\n",
            "- Extracting zip-file ... Done!\n",
            "- Loading from disk ... "
          ]
        },
        {
          "output_type": "stream",
          "name": "stderr",
          "text": [
            "/usr/local/lib/python3.10/dist-packages/simfin/load.py:154: FutureWarning: The argument 'date_parser' is deprecated and will be removed in a future version. Please use 'date_format' instead, or read your data in as 'object' dtype and then call 'to_datetime'.\n",
            "  df = pd.read_csv(path, sep=';', header=0,\n"
          ]
        },
        {
          "output_type": "stream",
          "name": "stdout",
          "text": [
            "Done!\n",
            "                    SimFinId Currency  Fiscal Year Fiscal Period Publish Date  \\\n",
            "Ticker Report Date                                                              \n",
            "A      2018-10-31      45846      USD         2018            Q4   2018-12-20   \n",
            "       2019-10-31      45846      USD         2019            Q4   2019-12-19   \n",
            "       2020-10-31      45846      USD         2020            Q4   2020-12-18   \n",
            "       2021-10-31      45846      USD         2021            Q4   2021-12-17   \n",
            "       2022-10-31      45846      USD         2022            Q4   2022-12-21   \n",
            "\n",
            "                   Restated Date  Shares (Basic)  Shares (Diluted)  \\\n",
            "Ticker Report Date                                                   \n",
            "A      2018-10-31     2018-12-20     321000000.0       325000000.0   \n",
            "       2019-10-31     2020-12-18     314000000.0       318000000.0   \n",
            "       2020-10-31     2021-12-17     309000000.0       312000000.0   \n",
            "       2021-10-31     2022-12-21     305000000.0       307000000.0   \n",
            "       2022-10-31     2023-12-20     304000000.0       307000000.0   \n",
            "\n",
            "                    Cash, Cash Equivalents & Short Term Investments  \\\n",
            "Ticker Report Date                                                    \n",
            "A      2018-10-31                                      2.247000e+09   \n",
            "       2019-10-31                                      1.382000e+09   \n",
            "       2020-10-31                                      1.441000e+09   \n",
            "       2021-10-31                                      1.575000e+09   \n",
            "       2022-10-31                                      1.053000e+09   \n",
            "\n",
            "                    Accounts & Notes Receivable  ...  Short Term Debt  \\\n",
            "Ticker Report Date                               ...                    \n",
            "A      2018-10-31                  7.760000e+08  ...              0.0   \n",
            "       2019-10-31                  9.300000e+08  ...      616000000.0   \n",
            "       2020-10-31                  1.038000e+09  ...       75000000.0   \n",
            "       2021-10-31                  1.172000e+09  ...              NaN   \n",
            "       2022-10-31                  1.405000e+09  ...       36000000.0   \n",
            "\n",
            "                    Total Current Liabilities  Long Term Debt  \\\n",
            "Ticker Report Date                                              \n",
            "A      2018-10-31                1.171000e+09    1.799000e+09   \n",
            "       2019-10-31                2.080000e+09    1.791000e+09   \n",
            "       2020-10-31                1.467000e+09    2.284000e+09   \n",
            "       2021-10-31                1.708000e+09    2.729000e+09   \n",
            "       2022-10-31                1.861000e+09    2.733000e+09   \n",
            "\n",
            "                    Total Noncurrent Liabilities  Total Liabilities  \\\n",
            "Ticker Report Date                                                    \n",
            "A      2018-10-31                   2.799000e+09       3.970000e+09   \n",
            "       2019-10-31                   2.624000e+09       4.704000e+09   \n",
            "       2020-10-31                   3.287000e+09       4.754000e+09   \n",
            "       2021-10-31                   3.608000e+09       5.316000e+09   \n",
            "       2022-10-31                   3.366000e+09       5.227000e+09   \n",
            "\n",
            "                    Share Capital & Additional Paid-In Capital  \\\n",
            "Ticker Report Date                                               \n",
            "A      2018-10-31                                 5.311000e+09   \n",
            "       2019-10-31                                 5.280000e+09   \n",
            "       2020-10-31                                 5.314000e+09   \n",
            "       2021-10-31                                 5.323000e+09   \n",
            "       2022-10-31                                 5.328000e+09   \n",
            "\n",
            "                    Treasury Stock  Retained Earnings  Total Equity  \\\n",
            "Ticker Report Date                                                    \n",
            "A      2018-10-31              NaN       -336000000.0  4.571000e+09   \n",
            "       2019-10-31              NaN        -18000000.0  4.748000e+09   \n",
            "       2020-10-31              NaN         81000000.0  4.873000e+09   \n",
            "       2021-10-31              NaN        348000000.0  5.389000e+09   \n",
            "       2022-10-31              NaN        324000000.0  5.305000e+09   \n",
            "\n",
            "                    Total Liabilities & Equity  \n",
            "Ticker Report Date                              \n",
            "A      2018-10-31                   8541000000  \n",
            "       2019-10-31                   9452000000  \n",
            "       2020-10-31                   9627000000  \n",
            "       2021-10-31                  10705000000  \n",
            "       2022-10-31                  10532000000  \n",
            "\n",
            "[5 rows x 28 columns]\n"
          ]
        }
      ]
    },
    {
      "cell_type": "code",
      "source": [
        "# Installation: pip install simfin\n",
        "# import simfin package\n",
        "import simfin as sf\n",
        "\n",
        "# Set your API-key for downloading data.\n",
        "sf.set_api_key('29fb3e92-e893-409a-9655-ba8cf31cd33b')\n",
        "\n",
        "# Set the local directory where data-files are stored.\n",
        "# The directory will be created if it does not already exist.\n",
        "sf.set_data_dir('~/simfin_data/')\n",
        "\n",
        "# Download the data from the SimFin server and load into a Pandas DataFrame.\n",
        "df = sf.load_cashflow(variant='annual')\n",
        "\n",
        "# Print the first rows of the data.\n",
        "print(df.head())"
      ],
      "metadata": {
        "colab": {
          "base_uri": "https://localhost:8080/"
        },
        "collapsed": true,
        "id": "kcsOcsEUjd0i",
        "outputId": "f9f3e520-159c-4baa-bab1-42f8cb7baff8"
      },
      "execution_count": 3,
      "outputs": [
        {
          "output_type": "stream",
          "name": "stdout",
          "text": [
            "Dataset \"us-cashflow-annual\" not on disk.\n",
            "- Downloading ... 100.0%\n",
            "- Extracting zip-file ... Done!\n",
            "- Loading from disk ... "
          ]
        },
        {
          "output_type": "stream",
          "name": "stderr",
          "text": [
            "/usr/local/lib/python3.10/dist-packages/simfin/load.py:154: FutureWarning: The argument 'date_parser' is deprecated and will be removed in a future version. Please use 'date_format' instead, or read your data in as 'object' dtype and then call 'to_datetime'.\n",
            "  df = pd.read_csv(path, sep=';', header=0,\n"
          ]
        },
        {
          "output_type": "stream",
          "name": "stdout",
          "text": [
            "Done!\n",
            "                    SimFinId Currency  Fiscal Year Fiscal Period Publish Date  \\\n",
            "Ticker Report Date                                                              \n",
            "A      2018-10-31      45846      USD         2018            FY   2018-12-20   \n",
            "       2019-10-31      45846      USD         2019            FY   2019-12-19   \n",
            "       2020-10-31      45846      USD         2020            FY   2020-12-18   \n",
            "       2021-10-31      45846      USD         2021            FY   2021-12-17   \n",
            "       2022-10-31      45846      USD         2022            FY   2022-12-21   \n",
            "\n",
            "                   Restated Date  Shares (Basic)  Shares (Diluted)  \\\n",
            "Ticker Report Date                                                   \n",
            "A      2018-10-31     2020-12-18     321000000.0       325000000.0   \n",
            "       2019-10-31     2021-12-17     314000000.0       318000000.0   \n",
            "       2020-10-31     2022-12-21     309000000.0       312000000.0   \n",
            "       2021-10-31     2023-12-20     305000000.0       307000000.0   \n",
            "       2022-10-31     2023-12-20     304000000.0       307000000.0   \n",
            "\n",
            "                    Net Income/Starting Line  Depreciation & Amortization  \\\n",
            "Ticker Report Date                                                          \n",
            "A      2018-10-31               3.160000e+08                  210000000.0   \n",
            "       2019-10-31               1.071000e+09                  238000000.0   \n",
            "       2020-10-31               7.190000e+08                  308000000.0   \n",
            "       2021-10-31               1.210000e+09                  321000000.0   \n",
            "       2022-10-31               1.254000e+09                  317000000.0   \n",
            "\n",
            "                    ...  Net Cash from Operating Activities  \\\n",
            "Ticker Report Date  ...                                       \n",
            "A      2018-10-31   ...                        1.087000e+09   \n",
            "       2019-10-31   ...                        1.021000e+09   \n",
            "       2020-10-31   ...                        9.210000e+08   \n",
            "       2021-10-31   ...                        1.485000e+09   \n",
            "       2022-10-31   ...                        1.312000e+09   \n",
            "\n",
            "                    Change in Fixed Assets & Intangibles  \\\n",
            "Ticker Report Date                                         \n",
            "A      2018-10-31                           -176000000.0   \n",
            "       2019-10-31                           -155000000.0   \n",
            "       2020-10-31                           -118000000.0   \n",
            "       2021-10-31                           -187000000.0   \n",
            "       2022-10-31                           -291000000.0   \n",
            "\n",
            "                    Net Change in Long Term Investment  \\\n",
            "Ticker Report Date                                       \n",
            "A      2018-10-31                                  NaN   \n",
            "       2019-10-31                                  NaN   \n",
            "       2020-10-31                                  NaN   \n",
            "       2021-10-31                          -97877126.0   \n",
            "       2022-10-31                           66906166.0   \n",
            "\n",
            "                    Net Cash from Acquisitions & Divestitures  \\\n",
            "Ticker Report Date                                              \n",
            "A      2018-10-31                               -5.160000e+08   \n",
            "       2019-10-31                               -1.408000e+09   \n",
            "       2020-10-31                                         NaN   \n",
            "       2021-10-31                               -5.448549e+08   \n",
            "       2022-10-31                               -5.200000e+07   \n",
            "\n",
            "                    Net Cash from Investing Activities  Dividends Paid  \\\n",
            "Ticker Report Date                                                       \n",
            "A      2018-10-31                        -7.036566e+08    -191000000.0   \n",
            "       2019-10-31                        -1.590000e+09    -206000000.0   \n",
            "       2020-10-31                        -1.470000e+08    -222000000.0   \n",
            "       2021-10-31                        -7.490000e+08    -236000000.0   \n",
            "       2022-10-31                        -3.380000e+08    -250000000.0   \n",
            "\n",
            "                    Cash from (Repayment of) Debt  \\\n",
            "Ticker Report Date                                  \n",
            "A      2018-10-31                    -210000000.0   \n",
            "       2019-10-31                     600000000.0   \n",
            "       2020-10-31                     -45000000.0   \n",
            "       2021-10-31                     356000000.0   \n",
            "       2022-10-31                      26000000.0   \n",
            "\n",
            "                    Cash from (Repurchase of) Equity  \\\n",
            "Ticker Report Date                                     \n",
            "A      2018-10-31                      -4.228009e+08   \n",
            "       2019-10-31                      -7.217428e+08   \n",
            "       2020-10-31                      -4.701362e+08   \n",
            "       2021-10-31                      -7.899575e+08   \n",
            "       2022-10-31                      -1.137699e+09   \n",
            "\n",
            "                    Net Cash from Financing Activities  Net Change in Cash  \n",
            "Ticker Report Date                                                          \n",
            "A      2018-10-31                        -7.970000e+08          -432000000  \n",
            "       2019-10-31                        -2.990000e+08          -866000000  \n",
            "       2020-10-31                        -7.170000e+08            59000000  \n",
            "       2021-10-31                        -6.960000e+08            43000000  \n",
            "       2022-10-31                        -1.372000e+09          -434000000  \n",
            "\n",
            "[5 rows x 26 columns]\n"
          ]
        }
      ]
    }
  ]
}