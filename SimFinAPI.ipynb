{
  "nbformat": 4,
  "nbformat_minor": 0,
  "metadata": {
    "colab": {
      "provenance": [],
      "authorship_tag": "ABX9TyNNkwLP+O7b4FNaa0hHCYQm",
      "include_colab_link": true
    },
    "kernelspec": {
      "name": "python3",
      "display_name": "Python 3"
    },
    "language_info": {
      "name": "python"
    }
  },
  "cells": [
    {
      "cell_type": "markdown",
      "metadata": {
        "id": "view-in-github",
        "colab_type": "text"
      },
      "source": [
        "<a href=\"https://colab.research.google.com/github/GerardAlba/UdAAnaliticaFinancera/blob/main/SimFinAPI.ipynb\" target=\"_parent\"><img src=\"https://colab.research.google.com/assets/colab-badge.svg\" alt=\"Open In Colab\"/></a>"
      ]
    },
    {
      "cell_type": "markdown",
      "source": [
        "Les dades financeres de les companyies són les característiques o matriu *X*, i *y* representarà els preus de les accions (etiquetes/target). Obtindrem el dataset de SimFin"
      ],
      "metadata": {
        "id": "AgxpiRLE6Dhz"
      }
    },
    {
      "cell_type": "code",
      "execution_count": 2,
      "metadata": {
        "colab": {
          "base_uri": "https://localhost:8080/"
        },
        "collapsed": true,
        "id": "HOsKUZWWbY8p",
        "outputId": "2ea3fcb7-a3e4-4a30-e9f5-c65993a6bd93"
      },
      "outputs": [
        {
          "output_type": "stream",
          "name": "stdout",
          "text": [
            "Collecting simfin\n",
            "  Downloading simfin-1.0.1-py3-none-any.whl.metadata (637 bytes)\n",
            "Requirement already satisfied: pandas in /usr/local/lib/python3.10/dist-packages (from simfin) (2.1.4)\n",
            "Requirement already satisfied: numpy in /usr/local/lib/python3.10/dist-packages (from simfin) (1.26.4)\n",
            "Requirement already satisfied: requests in /usr/local/lib/python3.10/dist-packages (from simfin) (2.31.0)\n",
            "Requirement already satisfied: python-dateutil>=2.8.2 in /usr/local/lib/python3.10/dist-packages (from pandas->simfin) (2.8.2)\n",
            "Requirement already satisfied: pytz>=2020.1 in /usr/local/lib/python3.10/dist-packages (from pandas->simfin) (2024.1)\n",
            "Requirement already satisfied: tzdata>=2022.1 in /usr/local/lib/python3.10/dist-packages (from pandas->simfin) (2024.1)\n",
            "Requirement already satisfied: charset-normalizer<4,>=2 in /usr/local/lib/python3.10/dist-packages (from requests->simfin) (3.3.2)\n",
            "Requirement already satisfied: idna<4,>=2.5 in /usr/local/lib/python3.10/dist-packages (from requests->simfin) (3.7)\n",
            "Requirement already satisfied: urllib3<3,>=1.21.1 in /usr/local/lib/python3.10/dist-packages (from requests->simfin) (2.0.7)\n",
            "Requirement already satisfied: certifi>=2017.4.17 in /usr/local/lib/python3.10/dist-packages (from requests->simfin) (2024.7.4)\n",
            "Requirement already satisfied: six>=1.5 in /usr/local/lib/python3.10/dist-packages (from python-dateutil>=2.8.2->pandas->simfin) (1.16.0)\n",
            "Downloading simfin-1.0.1-py3-none-any.whl (61 kB)\n",
            "\u001b[2K   \u001b[90m━━━━━━━━━━━━━━━━━━━━━━━━━━━━━━━━━━━━━━━━\u001b[0m \u001b[32m61.6/61.6 kB\u001b[0m \u001b[31m582.7 kB/s\u001b[0m eta \u001b[36m0:00:00\u001b[0m\n",
            "\u001b[?25hInstalling collected packages: simfin\n",
            "Successfully installed simfin-1.0.1\n"
          ]
        }
      ],
      "source": [
        "pip install simfin"
      ]
    },
    {
      "cell_type": "code",
      "source": [
        "# Dataset financer: https://simfin.com/\n",
        "# Instal.lem: pip install simfin\n",
        "# import simfin package\n",
        "import simfin as sf\n",
        "\n",
        "def getXDataMerged():\n",
        "  # API-key per connectar simfin (cal usuari a simfin)\n",
        "  sf.set_api_key('29fb3e92-e893-409a-9655-ba8cf31cd33b')\n",
        "\n",
        "  # Descarreguem les dades de simfin i assignem a un DataFrame de Pandas\n",
        "  a = sf.load_income(variant='annual')\n",
        "  b = sf.load_balance(variant='annual')\n",
        "  c = sf.load_cashflow(variant='annual')\n",
        "  print('Income Statement: ', a.shape)\n",
        "  print('Balance Sheet: ', b.shape)\n",
        "  print('Cash Flow: ' ,c.shape)\n",
        "\n",
        "  result = pd.merge(a, b, on=['Ticker','SimFinId','Currency','Fiscal Year','Report Date','Publish Date'])\n",
        "  result = pd.merge(result, c, on=['Ticker','SimFinId','Currency','Fiscal Year','Report Date','Publish Date'])\n",
        "\n",
        "  print('Matriu X:', result.shape)\n",
        "  return result"
      ],
      "metadata": {
        "id": "Y1vv3Obp0C73"
      },
      "execution_count": 4,
      "outputs": []
    },
    {
      "cell_type": "code",
      "source": [
        "x=getXDataMerged()"
      ],
      "metadata": {
        "colab": {
          "base_uri": "https://localhost:8080/"
        },
        "id": "XNYMzB8dv8kJ",
        "outputId": "7b3299f8-79e9-463b-fa8b-80c5f9acb44e"
      },
      "execution_count": 41,
      "outputs": [
        {
          "output_type": "stream",
          "name": "stdout",
          "text": [
            "Dataset \"us-income-annual\" on disk (0 days old).\n",
            "- Loading from disk ... "
          ]
        },
        {
          "output_type": "stream",
          "name": "stderr",
          "text": [
            "/usr/local/lib/python3.10/dist-packages/simfin/load.py:154: FutureWarning: The argument 'date_parser' is deprecated and will be removed in a future version. Please use 'date_format' instead, or read your data in as 'object' dtype and then call 'to_datetime'.\n",
            "  df = pd.read_csv(path, sep=';', header=0,\n"
          ]
        },
        {
          "output_type": "stream",
          "name": "stdout",
          "text": [
            "Done!\n",
            "Dataset \"us-balance-annual\" on disk (0 days old).\n",
            "- Loading from disk ... "
          ]
        },
        {
          "output_type": "stream",
          "name": "stderr",
          "text": [
            "/usr/local/lib/python3.10/dist-packages/simfin/load.py:154: FutureWarning: The argument 'date_parser' is deprecated and will be removed in a future version. Please use 'date_format' instead, or read your data in as 'object' dtype and then call 'to_datetime'.\n",
            "  df = pd.read_csv(path, sep=';', header=0,\n"
          ]
        },
        {
          "output_type": "stream",
          "name": "stdout",
          "text": [
            "Done!\n",
            "Dataset \"us-cashflow-annual\" on disk (0 days old).\n",
            "- Loading from disk ... "
          ]
        },
        {
          "output_type": "stream",
          "name": "stderr",
          "text": [
            "/usr/local/lib/python3.10/dist-packages/simfin/load.py:154: FutureWarning: The argument 'date_parser' is deprecated and will be removed in a future version. Please use 'date_format' instead, or read your data in as 'object' dtype and then call 'to_datetime'.\n",
            "  df = pd.read_csv(path, sep=';', header=0,\n"
          ]
        },
        {
          "output_type": "stream",
          "name": "stdout",
          "text": [
            "Done!\n",
            "Income Statement CSV is:  (17562, 26)\n",
            "Balance Sheet CSV is:  (17558, 28)\n",
            "Cash Flow CSV is:  (17564, 26)\n",
            "merged X data matrix shape is: (15619, 72)\n"
          ]
        }
      ]
    },
    {
      "cell_type": "markdown",
      "source": [
        "Podem veure són les característiques x del dataset:"
      ],
      "metadata": {
        "id": "vQuJ0hz95UXd"
      }
    },
    {
      "cell_type": "code",
      "source": [
        "x.keys()"
      ],
      "metadata": {
        "colab": {
          "base_uri": "https://localhost:8080/"
        },
        "id": "8JA9llCyqQoH",
        "outputId": "8a6cedfe-77a2-4514-f898-007da706d6af"
      },
      "execution_count": 42,
      "outputs": [
        {
          "output_type": "execute_result",
          "data": {
            "text/plain": [
              "Index(['SimFinId', 'Currency', 'Fiscal Year', 'Fiscal Period_x',\n",
              "       'Publish Date', 'Restated Date_x', 'Shares (Basic)_x',\n",
              "       'Shares (Diluted)_x', 'Revenue', 'Cost of Revenue', 'Gross Profit',\n",
              "       'Operating Expenses', 'Selling, General & Administrative',\n",
              "       'Research & Development', 'Depreciation & Amortization_x',\n",
              "       'Operating Income (Loss)', 'Non-Operating Income (Loss)',\n",
              "       'Interest Expense, Net', 'Pretax Income (Loss), Adj.',\n",
              "       'Abnormal Gains (Losses)', 'Pretax Income (Loss)',\n",
              "       'Income Tax (Expense) Benefit, Net',\n",
              "       'Income (Loss) from Continuing Operations',\n",
              "       'Net Extraordinary Gains (Losses)', 'Net Income', 'Net Income (Common)',\n",
              "       'Fiscal Period_y', 'Restated Date_y', 'Shares (Basic)_y',\n",
              "       'Shares (Diluted)_y', 'Cash, Cash Equivalents & Short Term Investments',\n",
              "       'Accounts & Notes Receivable', 'Inventories', 'Total Current Assets',\n",
              "       'Property, Plant & Equipment, Net',\n",
              "       'Long Term Investments & Receivables', 'Other Long Term Assets',\n",
              "       'Total Noncurrent Assets', 'Total Assets', 'Payables & Accruals',\n",
              "       'Short Term Debt', 'Total Current Liabilities', 'Long Term Debt',\n",
              "       'Total Noncurrent Liabilities', 'Total Liabilities',\n",
              "       'Share Capital & Additional Paid-In Capital', 'Treasury Stock',\n",
              "       'Retained Earnings', 'Total Equity', 'Total Liabilities & Equity',\n",
              "       'Fiscal Period', 'Restated Date', 'Shares (Basic)', 'Shares (Diluted)',\n",
              "       'Net Income/Starting Line', 'Depreciation & Amortization_y',\n",
              "       'Non-Cash Items', 'Change in Working Capital',\n",
              "       'Change in Accounts Receivable', 'Change in Inventories',\n",
              "       'Change in Accounts Payable', 'Change in Other',\n",
              "       'Net Cash from Operating Activities',\n",
              "       'Change in Fixed Assets & Intangibles',\n",
              "       'Net Change in Long Term Investment',\n",
              "       'Net Cash from Acquisitions & Divestitures',\n",
              "       'Net Cash from Investing Activities', 'Dividends Paid',\n",
              "       'Cash from (Repayment of) Debt', 'Cash from (Repurchase of) Equity',\n",
              "       'Net Cash from Financing Activities', 'Net Change in Cash'],\n",
              "      dtype='object')"
            ]
          },
          "metadata": {},
          "execution_count": 42
        }
      ]
    }
  ]
}