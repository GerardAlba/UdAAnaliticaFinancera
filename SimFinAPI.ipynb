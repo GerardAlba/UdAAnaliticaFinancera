{
  "nbformat": 4,
  "nbformat_minor": 0,
  "metadata": {
    "colab": {
      "provenance": [],
      "authorship_tag": "ABX9TyO+xoBtj+16Vjkqe8adlt/4"
    },
    "kernelspec": {
      "name": "python3",
      "display_name": "Python 3"
    },
    "language_info": {
      "name": "python"
    }
  },
  "cells": [
    {
      "cell_type": "code",
      "execution_count": 1,
      "metadata": {
        "colab": {
          "base_uri": "https://localhost:8080/"
        },
        "id": "HOsKUZWWbY8p",
        "outputId": "cff4d34f-d372-4340-a0b6-d536de742250"
      },
      "outputs": [
        {
          "output_type": "stream",
          "name": "stdout",
          "text": [
            "Collecting simfin\n",
            "  Downloading simfin-1.0.1-py3-none-any.whl.metadata (637 bytes)\n",
            "Requirement already satisfied: pandas in /usr/local/lib/python3.10/dist-packages (from simfin) (2.1.4)\n",
            "Requirement already satisfied: numpy in /usr/local/lib/python3.10/dist-packages (from simfin) (1.26.4)\n",
            "Requirement already satisfied: requests in /usr/local/lib/python3.10/dist-packages (from simfin) (2.31.0)\n",
            "Requirement already satisfied: python-dateutil>=2.8.2 in /usr/local/lib/python3.10/dist-packages (from pandas->simfin) (2.8.2)\n",
            "Requirement already satisfied: pytz>=2020.1 in /usr/local/lib/python3.10/dist-packages (from pandas->simfin) (2024.1)\n",
            "Requirement already satisfied: tzdata>=2022.1 in /usr/local/lib/python3.10/dist-packages (from pandas->simfin) (2024.1)\n",
            "Requirement already satisfied: charset-normalizer<4,>=2 in /usr/local/lib/python3.10/dist-packages (from requests->simfin) (3.3.2)\n",
            "Requirement already satisfied: idna<4,>=2.5 in /usr/local/lib/python3.10/dist-packages (from requests->simfin) (3.7)\n",
            "Requirement already satisfied: urllib3<3,>=1.21.1 in /usr/local/lib/python3.10/dist-packages (from requests->simfin) (2.0.7)\n",
            "Requirement already satisfied: certifi>=2017.4.17 in /usr/local/lib/python3.10/dist-packages (from requests->simfin) (2024.7.4)\n",
            "Requirement already satisfied: six>=1.5 in /usr/local/lib/python3.10/dist-packages (from python-dateutil>=2.8.2->pandas->simfin) (1.16.0)\n",
            "Downloading simfin-1.0.1-py3-none-any.whl (61 kB)\n",
            "\u001b[2K   \u001b[90m━━━━━━━━━━━━━━━━━━━━━━━━━━━━━━━━━━━━━━━━\u001b[0m \u001b[32m61.6/61.6 kB\u001b[0m \u001b[31m2.0 MB/s\u001b[0m eta \u001b[36m0:00:00\u001b[0m\n",
            "\u001b[?25hInstalling collected packages: simfin\n",
            "Successfully installed simfin-1.0.1\n"
          ]
        }
      ],
      "source": [
        "pip install simfin"
      ]
    },
    {
      "cell_type": "code",
      "source": [
        "# Installation: pip install simfin\n",
        "# import simfin package\n",
        "import simfin as sf\n",
        "\n",
        "# Set your API-key for downloading data.\n",
        "sf.set_api_key('29fb3e92-e893-409a-9655-ba8cf31cd33b')\n",
        "\n",
        "# Set the local directory where data-files are stored.\n",
        "# The directory will be created if it does not already exist.\n",
        "sf.set_data_dir('~/simfin_data/')\n",
        "\n",
        "# Download the data from the SimFin server and load into a Pandas DataFrame.\n",
        "df = sf.load_income(variant='annual')\n",
        "\n",
        "# Print the first rows of the data.\n",
        "print(df.head())"
      ],
      "metadata": {
        "id": "8JCExhAubgUX"
      },
      "execution_count": null,
      "outputs": []
    }
  ]
}